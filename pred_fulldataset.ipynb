{
 "cells": [
  {
   "cell_type": "markdown",
   "id": "african-hurricane",
   "metadata": {},
   "source": [
    "Imports:"
   ]
  },
  {
   "cell_type": "code",
   "execution_count": 23,
   "id": "young-banner",
   "metadata": {},
   "outputs": [],
   "source": [
    "import sys\n",
    "import os\n",
    "import numpy as np\n",
    "import tensorflow \n",
    "import keras\n",
    "from keras.models import model_from_json, load_model\n",
    "import pandas as pd"
   ]
  },
  {
   "cell_type": "markdown",
   "id": "cross-cruise",
   "metadata": {},
   "source": [
    "Using GPUs"
   ]
  },
  {
   "cell_type": "code",
   "execution_count": 24,
   "id": "smooth-consolidation",
   "metadata": {},
   "outputs": [],
   "source": [
    "gpu = 1 # don't set this to 0 \n",
    "\n",
    "if gpu > -1:\n",
    "\tdevice = '/gpu:%i' % gpu\n",
    "\tos.environ['CUDA_VISIBLE_DEVICES']=str(1)\n",
    "else:\n",
    "\tdevice = '/cpu:0'\n",
    "\n",
    "os.environ['TF_CPP_MIN_LOG_LEVEL'] = '3'\n"
   ]
  },
  {
   "cell_type": "markdown",
   "id": "needed-captain",
   "metadata": {},
   "source": [
    "Loading the models "
   ]
  },
  {
   "cell_type": "code",
   "execution_count": 35,
   "id": "characteristic-attention",
   "metadata": {},
   "outputs": [],
   "source": [
    "model_file_0 = \"/isdata/alab/people/masa/deep_learning_21_student/GM12878_rDHS_finetuned/partition_0/model_compiled.h5\"\n",
    "model_file_1 = \"/isdata/alab/people/masa/deep_learning_21_student/GM12878_rDHS_finetuned/partition_1/model_compiled.h5\"\n",
    "model_file_2 = \"/isdata/alab/people/masa/deep_learning_21_student/GM12878_rDHS_finetuned/partition_2/model_compiled.h5\""
   ]
  },
  {
   "cell_type": "code",
   "execution_count": 36,
   "id": "remarkable-drove",
   "metadata": {},
   "outputs": [
    {
     "name": "stdout",
     "output_type": "stream",
     "text": [
      "Model: \"model_2\"\n",
      "_________________________________________________________________\n",
      "Layer (type)                 Output Shape              Param #   \n",
      "=================================================================\n",
      "input_1 (InputLayer)         (None, None, 4)           0         \n",
      "_________________________________________________________________\n",
      "model_1 (Model)              (None, 64)                554144    \n",
      "_________________________________________________________________\n",
      "dense_1 (Dense)              (None, 1024)              66560     \n",
      "_________________________________________________________________\n",
      "batch_normalization_1 (Batch (None, 1024)              4096      \n",
      "_________________________________________________________________\n",
      "dropout_1 (Dropout)          (None, 1024)              0         \n",
      "_________________________________________________________________\n",
      "dense_2 (Dense)              (None, 32)                32800     \n",
      "_________________________________________________________________\n",
      "batch_normalization_2 (Batch (None, 32)                128       \n",
      "_________________________________________________________________\n",
      "dropout_2 (Dropout)          (None, 32)                0         \n",
      "_________________________________________________________________\n",
      "dense_3 (Dense)              (None, 1)                 33        \n",
      "=================================================================\n",
      "Total params: 657,761\n",
      "Trainable params: 653,665\n",
      "Non-trainable params: 4,096\n",
      "_________________________________________________________________\n"
     ]
    }
   ],
   "source": [
    "model_0 = load_model(model_file_0, compile=False)\n",
    "model_1 = load_model(model_file_1, compile=False)\n",
    "model_2 = load_model(model_file_2, compile=False)\n",
    "\n",
    "model_0.summary()"
   ]
  },
  {
   "cell_type": "markdown",
   "id": "addressed-status",
   "metadata": {},
   "source": [
    "Loading the dataframe. The sequences are converted to upper case. Cell_line contains the positives (labelled GM12878) and the negatives (Negative). Fold indicates the data partitions that were used in each cross-validation (CV) fold (0, 1, 2). "
   ]
  },
  {
   "cell_type": "code",
   "execution_count": 25,
   "id": "moderate-eleven",
   "metadata": {},
   "outputs": [],
   "source": [
    "df = pd.read_csv('/home/isacor/deep_learning_21_student/sequences_rDHS/training_dataset_GM12878_600.csv', sep='\\t')"
   ]
  },
  {
   "cell_type": "code",
   "execution_count": 74,
   "id": "favorite-farmer",
   "metadata": {},
   "outputs": [
    {
     "name": "stdout",
     "output_type": "stream",
     "text": [
      "GM12878        91902\n",
      "GM12878_NEG    77189\n",
      "Negative       18428\n",
      "Name: cell_line, dtype: int64\n"
     ]
    },
    {
     "data": {
      "text/html": [
       "<div>\n",
       "<style scoped>\n",
       "    .dataframe tbody tr th:only-of-type {\n",
       "        vertical-align: middle;\n",
       "    }\n",
       "\n",
       "    .dataframe tbody tr th {\n",
       "        vertical-align: top;\n",
       "    }\n",
       "\n",
       "    .dataframe thead th {\n",
       "        text-align: right;\n",
       "    }\n",
       "</style>\n",
       "<table border=\"1\" class=\"dataframe\">\n",
       "  <thead>\n",
       "    <tr style=\"text-align: right;\">\n",
       "      <th></th>\n",
       "      <th>Region</th>\n",
       "      <th>Sequence</th>\n",
       "      <th>zscore</th>\n",
       "      <th>cell_line</th>\n",
       "      <th>Chr</th>\n",
       "      <th>Fold</th>\n",
       "      <th>Len</th>\n",
       "    </tr>\n",
       "  </thead>\n",
       "  <tbody>\n",
       "    <tr>\n",
       "      <th>0</th>\n",
       "      <td>chr1:112466510-112467110</td>\n",
       "      <td>GCGGAACGAAGCCTAGACTGCGTAAAAAAAAACAGAGAACAGAAAC...</td>\n",
       "      <td>3.78050</td>\n",
       "      <td>GM12878</td>\n",
       "      <td>chr1</td>\n",
       "      <td>0</td>\n",
       "      <td>600</td>\n",
       "    </tr>\n",
       "    <tr>\n",
       "      <th>1</th>\n",
       "      <td>chr1:156122722-156123322</td>\n",
       "      <td>CAGAACTGTTACCTTAGAGCTGGCCAGGATTAGAGAACAGTGCCTG...</td>\n",
       "      <td>2.39238</td>\n",
       "      <td>GM12878</td>\n",
       "      <td>chr1</td>\n",
       "      <td>0</td>\n",
       "      <td>600</td>\n",
       "    </tr>\n",
       "    <tr>\n",
       "      <th>2</th>\n",
       "      <td>chr14:20663708-20664308</td>\n",
       "      <td>GCTGCAGGGTCTGCTGAAAGTCCTTAAGCAGCCCTTTCCTAAAACT...</td>\n",
       "      <td>1.97273</td>\n",
       "      <td>GM12878</td>\n",
       "      <td>chr14</td>\n",
       "      <td>0</td>\n",
       "      <td>600</td>\n",
       "    </tr>\n",
       "    <tr>\n",
       "      <th>3</th>\n",
       "      <td>chr19:18410476-18411076</td>\n",
       "      <td>AAAATATGGACAAACAAGAAAAAAAGATGCGCAGGGAGGAGTTCAA...</td>\n",
       "      <td>2.24890</td>\n",
       "      <td>GM12878</td>\n",
       "      <td>chr19</td>\n",
       "      <td>0</td>\n",
       "      <td>600</td>\n",
       "    </tr>\n",
       "    <tr>\n",
       "      <th>4</th>\n",
       "      <td>chr1:778437-779037</td>\n",
       "      <td>CGGCCGCGCCAGACATAGTTTTCTATTTTTGACCAACATAAACACT...</td>\n",
       "      <td>3.73188</td>\n",
       "      <td>GM12878</td>\n",
       "      <td>chr1</td>\n",
       "      <td>0</td>\n",
       "      <td>600</td>\n",
       "    </tr>\n",
       "    <tr>\n",
       "      <th>...</th>\n",
       "      <td>...</td>\n",
       "      <td>...</td>\n",
       "      <td>...</td>\n",
       "      <td>...</td>\n",
       "      <td>...</td>\n",
       "      <td>...</td>\n",
       "      <td>...</td>\n",
       "    </tr>\n",
       "    <tr>\n",
       "      <th>187514</th>\n",
       "      <td>chr13:51807675-51808275</td>\n",
       "      <td>GAGAAAGTGATTTTCCACAAACGGGACTCGTGTTCGTCTTAAACTC...</td>\n",
       "      <td>0.00000</td>\n",
       "      <td>Negative</td>\n",
       "      <td>chr13</td>\n",
       "      <td>2</td>\n",
       "      <td>600</td>\n",
       "    </tr>\n",
       "    <tr>\n",
       "      <th>187515</th>\n",
       "      <td>chr13:18351290-18351890</td>\n",
       "      <td>CTTGGAAGGTTTTCCTTGTGACTTACCACTTGTAAACACTGAGAAA...</td>\n",
       "      <td>0.00000</td>\n",
       "      <td>Negative</td>\n",
       "      <td>chr13</td>\n",
       "      <td>2</td>\n",
       "      <td>600</td>\n",
       "    </tr>\n",
       "    <tr>\n",
       "      <th>187516</th>\n",
       "      <td>chr13:32386394-32386994</td>\n",
       "      <td>GAGACTGCATCTCAAAATAAAGAAAAAATGATAATCATCTTTTCTG...</td>\n",
       "      <td>0.00000</td>\n",
       "      <td>Negative</td>\n",
       "      <td>chr13</td>\n",
       "      <td>2</td>\n",
       "      <td>600</td>\n",
       "    </tr>\n",
       "    <tr>\n",
       "      <th>187517</th>\n",
       "      <td>chr13:46311381-46311981</td>\n",
       "      <td>GTACAGGGAGGCTGCAAGTACCCTTCACCCAGTTTCCCACAATGGT...</td>\n",
       "      <td>0.00000</td>\n",
       "      <td>Negative</td>\n",
       "      <td>chr13</td>\n",
       "      <td>2</td>\n",
       "      <td>600</td>\n",
       "    </tr>\n",
       "    <tr>\n",
       "      <th>187518</th>\n",
       "      <td>chr13:37218646-37219246</td>\n",
       "      <td>AGAAAGAAAGAAAGAAAGAGAAAACACCAAACTATCTTTCAAAGTG...</td>\n",
       "      <td>0.00000</td>\n",
       "      <td>Negative</td>\n",
       "      <td>chr13</td>\n",
       "      <td>2</td>\n",
       "      <td>600</td>\n",
       "    </tr>\n",
       "  </tbody>\n",
       "</table>\n",
       "<p>187519 rows × 7 columns</p>\n",
       "</div>"
      ],
      "text/plain": [
       "                          Region  \\\n",
       "0       chr1:112466510-112467110   \n",
       "1       chr1:156122722-156123322   \n",
       "2        chr14:20663708-20664308   \n",
       "3        chr19:18410476-18411076   \n",
       "4             chr1:778437-779037   \n",
       "...                          ...   \n",
       "187514   chr13:51807675-51808275   \n",
       "187515   chr13:18351290-18351890   \n",
       "187516   chr13:32386394-32386994   \n",
       "187517   chr13:46311381-46311981   \n",
       "187518   chr13:37218646-37219246   \n",
       "\n",
       "                                                 Sequence   zscore cell_line  \\\n",
       "0       GCGGAACGAAGCCTAGACTGCGTAAAAAAAAACAGAGAACAGAAAC...  3.78050   GM12878   \n",
       "1       CAGAACTGTTACCTTAGAGCTGGCCAGGATTAGAGAACAGTGCCTG...  2.39238   GM12878   \n",
       "2       GCTGCAGGGTCTGCTGAAAGTCCTTAAGCAGCCCTTTCCTAAAACT...  1.97273   GM12878   \n",
       "3       AAAATATGGACAAACAAGAAAAAAAGATGCGCAGGGAGGAGTTCAA...  2.24890   GM12878   \n",
       "4       CGGCCGCGCCAGACATAGTTTTCTATTTTTGACCAACATAAACACT...  3.73188   GM12878   \n",
       "...                                                   ...      ...       ...   \n",
       "187514  GAGAAAGTGATTTTCCACAAACGGGACTCGTGTTCGTCTTAAACTC...  0.00000  Negative   \n",
       "187515  CTTGGAAGGTTTTCCTTGTGACTTACCACTTGTAAACACTGAGAAA...  0.00000  Negative   \n",
       "187516  GAGACTGCATCTCAAAATAAAGAAAAAATGATAATCATCTTTTCTG...  0.00000  Negative   \n",
       "187517  GTACAGGGAGGCTGCAAGTACCCTTCACCCAGTTTCCCACAATGGT...  0.00000  Negative   \n",
       "187518  AGAAAGAAAGAAAGAAAGAGAAAACACCAAACTATCTTTCAAAGTG...  0.00000  Negative   \n",
       "\n",
       "          Chr  Fold  Len  \n",
       "0        chr1     0  600  \n",
       "1        chr1     0  600  \n",
       "2       chr14     0  600  \n",
       "3       chr19     0  600  \n",
       "4        chr1     0  600  \n",
       "...       ...   ...  ...  \n",
       "187514  chr13     2  600  \n",
       "187515  chr13     2  600  \n",
       "187516  chr13     2  600  \n",
       "187517  chr13     2  600  \n",
       "187518  chr13     2  600  \n",
       "\n",
       "[187519 rows x 7 columns]"
      ]
     },
     "execution_count": 74,
     "metadata": {},
     "output_type": "execute_result"
    }
   ],
   "source": [
    "df.Sequence = df.Sequence.str.upper()\n",
    "print (df.cell_line.value_counts())\n",
    "df"
   ]
  },
  {
   "cell_type": "markdown",
   "id": "nasty-rochester",
   "metadata": {},
   "source": [
    "One-hot encoding of the sequences"
   ]
  },
  {
   "cell_type": "code",
   "execution_count": 27,
   "id": "dated-edition",
   "metadata": {},
   "outputs": [],
   "source": [
    "encoder = np.identity(4)\n",
    "encoder_dict = dict()\n",
    "for i, letter in enumerate ('ACGT'):\n",
    "    encoder_dict[letter] = encoder[i]\n",
    "\n",
    "def one_hot_encoder (seq, encoder_dict):\n",
    "    encoded_seq = np.zeros((len(seq), len(encoder_dict)))\n",
    "    for i, letter in enumerate (seq):\n",
    "        encoded_seq[i] = encoder_dict[letter]\n",
    "    return encoded_seq  "
   ]
  },
  {
   "cell_type": "code",
   "execution_count": 9,
   "id": "binding-equality",
   "metadata": {},
   "outputs": [
    {
     "name": "stdout",
     "output_type": "stream",
     "text": [
      "(187519, 600, 4)\n",
      "GCGGAACGAAGCCTAGACTGCGTAAAAAAAAACAGAGAACAGAAACCACCTCACAGCATTGTTGTGAGCCTTAAATGAGCAAATTTAAGACTTAAAACTGGTCATTGACATAAGCCTTCAAAAAGTGATAGCTATTAGTATTATGTAGCTCCTAGAACAGTGGCTGACATATAGTAGATGCTCATAACTGTTAAAAAGGGGCCAGGAGGATTCTATCTATTTATGCATTCATCCATTTAATTATGCTTCAGAAATGTCTTGCTCTTTTTATACTGTCGATGCTGTAAAATACAAAACCCATAATAAGCCAAGTAAGCAAGCAAGAGCCAGCACTCTGGGAGGAAAACAAAGAGATTTTCTTCATTGAAATATCCATGCCACAGTTCCTACTAGGTGCCAGGCACTGTGATAGGCACTAGGATAGAGAAATAAGTTACAGGCCTTTAGGGATTTTAGGTGCTGGTGGGAGAGACAAACATGAAACGCAGTGTTATGTGGATTATAATAAATAGAGCAACAAGCTGTGGCTGCACAGTTAACCCCCAGTGGAGTCAGGAAAGGTCTCACAGAGGAAGGGACACTTGTCTTGGTCTTGAAGGA\n"
     ]
    },
    {
     "data": {
      "text/plain": [
       "array([[0., 0., 1., 0.],\n",
       "       [0., 1., 0., 0.],\n",
       "       [0., 0., 1., 0.],\n",
       "       ...,\n",
       "       [0., 0., 1., 0.],\n",
       "       [0., 0., 1., 0.],\n",
       "       [1., 0., 0., 0.]])"
      ]
     },
     "execution_count": 9,
     "metadata": {},
     "output_type": "execute_result"
    }
   ],
   "source": [
    "seq_list = list()\n",
    "for seq in df.Sequence:\n",
    "    seq_list.append(one_hot_encoder(seq, encoder_dict))\n",
    "input_seqs = np.array(seq_list)\n",
    "\n",
    "print(input_seqs.shape)\n",
    "print(df.Sequence[0])\n",
    "input_seqs[0]"
   ]
  },
  {
   "cell_type": "markdown",
   "id": "assured-cooper",
   "metadata": {},
   "source": [
    "I am masking partitions of the data to only input data that each model partition wasn't trained on"
   ]
  },
  {
   "cell_type": "code",
   "execution_count": 45,
   "id": "rational-scene",
   "metadata": {},
   "outputs": [],
   "source": [
    "def encoded_partitions (sequences, mask):\n",
    "    seq_list = list()\n",
    "    for seq in sequences.loc[mask]:\n",
    "        seq_list.append(one_hot_encoder(seq, encoder_dict))\n",
    "    return np.array(seq_list)\n",
    "    \n",
    "part_1_2 = encoded_partitions(df.Sequence, (df.Fold != 0))\n",
    "part_0_2 = encoded_partitions(df.Sequence, (df.Fold != 1))\n",
    "part_0_1 = encoded_partitions(df.Sequence, (df.Fold != 2))"
   ]
  },
  {
   "cell_type": "code",
   "execution_count": 38,
   "id": "chubby-lebanon",
   "metadata": {},
   "outputs": [],
   "source": [
    "pred_0 = model_0.predict(part_1_2, batch_size=128)"
   ]
  },
  {
   "cell_type": "code",
   "execution_count": 46,
   "id": "proper-fossil",
   "metadata": {},
   "outputs": [],
   "source": [
    "pred_1 = model_1.predict(part_0_2, batch_size=128)"
   ]
  },
  {
   "cell_type": "code",
   "execution_count": 48,
   "id": "varied-lodge",
   "metadata": {},
   "outputs": [],
   "source": [
    "pred_2 = model_2.predict(part_0_1, batch_size=128)"
   ]
  },
  {
   "cell_type": "markdown",
   "id": "severe-nepal",
   "metadata": {},
   "source": [
    "After getting the predictions, I am transforming the continuous output of the model to binary class labels"
   ]
  },
  {
   "cell_type": "code",
   "execution_count": 54,
   "id": "cutting-european",
   "metadata": {},
   "outputs": [],
   "source": [
    "bin_pred_0 = np.around(pred_0, decimals=0)\n",
    "bin_pred_1 = np.around(pred_1, decimals=0)\n",
    "bin_pred_2 = np.around(pred_2, decimals=0)"
   ]
  },
  {
   "cell_type": "code",
   "execution_count": 75,
   "id": "nearby-staff",
   "metadata": {},
   "outputs": [],
   "source": [
    "# true classes of everything except partition 0 \n",
    "true_label_0 = df.cell_line.loc[df.Fold != 0].to_numpy()\n",
    "true_label_0 = np.where (true_label_0 == 'GM12878', 1, 0)\n",
    "\n",
    "# true classes of everything except partition 1\n",
    "true_label_1 = df.cell_line.loc[df.Fold != 1].to_numpy()\n",
    "true_label_1 = np.where (true_label_1 == 'GM12878', 1, 0)\n",
    "\n",
    "# true classes of everything except partition 2\n",
    "true_label_2 = df.cell_line.loc[df.Fold != 2].to_numpy()\n",
    "true_label_2 = np.where (true_label_2 == 'GM12878', 1, 0)\n"
   ]
  },
  {
   "cell_type": "markdown",
   "id": "amended-officer",
   "metadata": {},
   "source": [
    "Some summary statistics of the model's performance: "
   ]
  },
  {
   "cell_type": "code",
   "execution_count": 76,
   "id": "common-diving",
   "metadata": {},
   "outputs": [],
   "source": [
    "from tensorflow import math"
   ]
  },
  {
   "cell_type": "code",
   "execution_count": 77,
   "id": "elect-sampling",
   "metadata": {},
   "outputs": [
    {
     "name": "stdout",
     "output_type": "stream",
     "text": [
      "[[50595 12079]\n",
      " [10117 44145]] \n",
      " [[51499 13161]\n",
      " [12490 54708]] \n",
      " [[49458 14442]\n",
      " [11050 51294]]\n"
     ]
    }
   ],
   "source": [
    "confusion_matrix_0 = math.confusion_matrix(true_label_0, bin_pred_0)\n",
    "confusion_matrix_1 = math.confusion_matrix(true_label_1, bin_pred_1)\n",
    "confusion_matrix_2 = math.confusion_matrix(true_label_2, bin_pred_2)\n",
    "\n",
    "with tensorflow.Session() as sess:  print(confusion_matrix_0.eval(), '\\n',\n",
    "                                         confusion_matrix_1.eval(), '\\n',\n",
    "                                         confusion_matrix_2.eval()) \n"
   ]
  },
  {
   "cell_type": "code",
   "execution_count": 78,
   "id": "considered-panel",
   "metadata": {},
   "outputs": [],
   "source": [
    "from sklearn.metrics import classification_report"
   ]
  },
  {
   "cell_type": "code",
   "execution_count": 79,
   "id": "contemporary-republican",
   "metadata": {},
   "outputs": [
    {
     "name": "stdout",
     "output_type": "stream",
     "text": [
      "Classification report - model trained on partition 0:\n",
      "               precision    recall  f1-score   support\n",
      "\n",
      "           0       0.83      0.81      0.82     62674\n",
      "           1       0.79      0.81      0.80     54262\n",
      "\n",
      "    accuracy                           0.81    116936\n",
      "   macro avg       0.81      0.81      0.81    116936\n",
      "weighted avg       0.81      0.81      0.81    116936\n",
      "\n",
      "Classification report - model trained on partition 1:\n",
      "               precision    recall  f1-score   support\n",
      "\n",
      "           0       0.80      0.80      0.80     64660\n",
      "           1       0.81      0.81      0.81     67198\n",
      "\n",
      "    accuracy                           0.81    131858\n",
      "   macro avg       0.81      0.81      0.81    131858\n",
      "weighted avg       0.81      0.81      0.81    131858\n",
      "\n",
      "Classification report - model trained on partition 2:\n",
      "               precision    recall  f1-score   support\n",
      "\n",
      "           0       0.82      0.77      0.80     63900\n",
      "           1       0.78      0.82      0.80     62344\n",
      "\n",
      "    accuracy                           0.80    126244\n",
      "   macro avg       0.80      0.80      0.80    126244\n",
      "weighted avg       0.80      0.80      0.80    126244\n",
      "\n"
     ]
    }
   ],
   "source": [
    "print(\"Classification report - model trained on partition 0:\\n\", \n",
    "      classification_report(true_label_0, bin_pred_0))\n",
    "\n",
    "print(\"Classification report - model trained on partition 1:\\n\", \n",
    "      classification_report(true_label_1, bin_pred_1))\n",
    "\n",
    "print(\"Classification report - model trained on partition 2:\\n\", \n",
    "      classification_report(true_label_2, bin_pred_2))\n"
   ]
  }
 ],
 "metadata": {
  "kernelspec": {
   "display_name": "tf-gpu-cuda8",
   "language": "python",
   "name": "tf-gpu-cuda8"
  },
  "language_info": {
   "codemirror_mode": {
    "name": "ipython",
    "version": 3
   },
   "file_extension": ".py",
   "mimetype": "text/x-python",
   "name": "python",
   "nbconvert_exporter": "python",
   "pygments_lexer": "ipython3",
   "version": "3.7.9"
  }
 },
 "nbformat": 4,
 "nbformat_minor": 5
}
